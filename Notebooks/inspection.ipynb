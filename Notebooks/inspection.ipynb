{
 "cells": [
  {
   "cell_type": "code",
   "execution_count": 2,
   "metadata": {},
   "outputs": [
    {
     "name": "stdout",
     "output_type": "stream",
     "text": [
      "Number of features: 45\n"
     ]
    }
   ],
   "source": [
    "import pandas as pd\n",
    "\n",
    "# Load the CSV file into a DataFrame\n",
    "df = pd.read_csv(\"/media/moraa/New Volume/Ontita/10Academy/Cohort B/Projects/Week1/User_Analytics_in_the_telecommunication_Industry/artifacts/train_data.csv\")\n",
    "\n",
    "# Check the number of columns/features\n",
    "num_features = df.shape[1]  # Number of columns\n",
    "print(\"Number of features:\", num_features)\n"
   ]
  },
  {
   "cell_type": "code",
   "execution_count": 3,
   "metadata": {},
   "outputs": [
    {
     "name": "stdout",
     "output_type": "stream",
     "text": [
      "   Feature Data Type\n",
      "0      PC1   float64\n",
      "1      PC2   float64\n",
      "2      PC3   float64\n",
      "3      PC4   float64\n",
      "4      PC5   float64\n",
      "5      PC6   float64\n",
      "6      PC7   float64\n",
      "7      PC8   float64\n",
      "8      PC9   float64\n",
      "9     PC10   float64\n",
      "10    PC11   float64\n",
      "11    PC12   float64\n",
      "12    PC13   float64\n",
      "13    PC14   float64\n",
      "14    PC15   float64\n",
      "15    PC16   float64\n",
      "16    PC17   float64\n",
      "17    PC18   float64\n",
      "18    PC19   float64\n",
      "19    PC20   float64\n",
      "20    PC21   float64\n",
      "21    PC22   float64\n",
      "22    PC23   float64\n",
      "23    PC24   float64\n",
      "24    PC25   float64\n",
      "25    PC26   float64\n",
      "26    PC27   float64\n",
      "27    PC28   float64\n",
      "28    PC29   float64\n",
      "29    PC30   float64\n",
      "30    PC31   float64\n",
      "31    PC32   float64\n",
      "32    PC33   float64\n",
      "33    PC34   float64\n",
      "34    PC35   float64\n",
      "35    PC36   float64\n",
      "36    PC37   float64\n",
      "37    PC38   float64\n",
      "38    PC39   float64\n",
      "39    PC40   float64\n",
      "40    PC41   float64\n",
      "41    PC42   float64\n",
      "42    PC43   float64\n",
      "43    PC44   float64\n",
      "44    PC45   float64\n"
     ]
    }
   ],
   "source": [
    "\n",
    "# Extract the column names and data types\n",
    "feature_info = df.dtypes.reset_index()\n",
    "feature_info.columns = ['Feature', 'Data Type']\n",
    "\n",
    "print(feature_info)"
   ]
  },
  {
   "cell_type": "code",
   "execution_count": null,
   "metadata": {},
   "outputs": [],
   "source": []
  }
 ],
 "metadata": {
  "kernelspec": {
   "display_name": "venv",
   "language": "python",
   "name": "python3"
  },
  "language_info": {
   "codemirror_mode": {
    "name": "ipython",
    "version": 3
   },
   "file_extension": ".py",
   "mimetype": "text/x-python",
   "name": "python",
   "nbconvert_exporter": "python",
   "pygments_lexer": "ipython3",
   "version": "3.10.12"
  }
 },
 "nbformat": 4,
 "nbformat_minor": 2
}
